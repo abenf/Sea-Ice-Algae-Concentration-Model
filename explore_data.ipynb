{
 "cells": [
  {
   "attachments": {},
   "cell_type": "markdown",
   "metadata": {},
   "source": [
    "Before running this notebook, make sure you've built the environment in and are running this notebook from the local directory where you've stored the project. To build, use either `environment.yml` or `requirments.txt` located in the `dependencies` directory."
   ]
  },
  {
   "cell_type": "code",
   "execution_count": 1,
   "metadata": {},
   "outputs": [],
   "source": [
    "import sys\n",
    "sys.path.append('./clean')\n",
    "\n",
    "import clean\n",
    "import pandas as pd\n",
    "import PIL"
   ]
  },
  {
   "cell_type": "code",
   "execution_count": 5,
   "metadata": {},
   "outputs": [
    {
     "name": "stdout",
     "output_type": "stream",
     "text": [
      "Starting WB-I-0001...\n",
      "Starting WB-I-0003...\n",
      "Starting WB-I-0004...\n",
      "Starting WB-I-0006...\n",
      "Starting WB-I-0007...\n",
      "Starting WB-I-0008...\n"
     ]
    }
   ],
   "source": [
    "# Changing `mmcq_quality` to another integer value from 2 to 10 will speed up \n",
    "# dominant color extraction and decrease accuracy. Setting `export_csv` to \n",
    "# True will update the transformed data located in `clean/cleaned_data`.\n",
    "\n",
    "# WARNING: \n",
    "#\n",
    "# Changing `mmcq_quality` while `export_csv` is set to True will alter the\n",
    "# transformed data stored in `clean/cleaned_data`. For reproducing models \n",
    "# and analyses, `mmcq_quality` should be set to 1.\n",
    "\n",
    "clean.run_clean(mmcq_quality=1, export_csv=False)"
   ]
  },
  {
   "cell_type": "code",
   "execution_count": 3,
   "metadata": {},
   "outputs": [
    {
     "name": "stdout",
     "output_type": "stream",
     "text": [
      "WB-I-0001, WB-I-0003, WB-I-0004, WB-I-0006, WB-I-0007, WB-I-0008\n"
     ]
    }
   ],
   "source": [
    "modeling_data       : pd.DataFrame = clean.TRANSFORMED_DATA\n",
    "raw_datasets        : dict[str, pd.DataFrame] = clean.DATASETS\n",
    "PIL_image_sets      : dict[str, pd.DataFrame] = clean.IMAGE_SETS\n",
    "\n",
    "# Keys for the individual data and image sets by buoy.\n",
    "# Use these to access individual buoys in either `raw_datasets` or `PIL_image_sets`\n",
    "data_and_image_keys = [\n",
    "  dataset['id'] for dataset in tuple(clean.DATA_INFO.values())[0]\n",
    "]\n",
    "print(\", \".join(data_and_image_keys))"
   ]
  }
 ],
 "metadata": {
  "kernelspec": {
   "display_name": "sea-ice_algae",
   "language": "python",
   "name": "python3"
  },
  "language_info": {
   "codemirror_mode": {
    "name": "ipython",
    "version": 3
   },
   "file_extension": ".py",
   "mimetype": "text/x-python",
   "name": "python",
   "nbconvert_exporter": "python",
   "pygments_lexer": "ipython3",
   "version": "3.10.9"
  },
  "orig_nbformat": 4,
  "vscode": {
   "interpreter": {
    "hash": "cbb3fdba6db063432194d87902eabd945d50247e78c38a47dbffdef88cba1615"
   }
  }
 },
 "nbformat": 4,
 "nbformat_minor": 2
}
